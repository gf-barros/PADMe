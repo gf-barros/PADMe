{
 "cells": [
  {
   "cell_type": "code",
   "execution_count": null,
   "metadata": {},
   "outputs": [],
   "source": [
    "%load_ext autoreload\n",
    "%autoreload 2\n",
    "\n",
    "import os\n",
    "from pathlib import Path\n",
    "import sys\n",
    "import zipfile\n",
    "\n",
    "from natsort import natsorted\n",
    "from dotenv import find_dotenv\n",
    "\n",
    "\n",
    "sys.path.append(os.path.dirname(find_dotenv()))"
   ]
  },
  {
   "cell_type": "code",
   "execution_count": null,
   "metadata": {},
   "outputs": [],
   "source": [
    "from src import DMD\n",
    "from src import snapshots_assembly"
   ]
  },
  {
   "attachments": {},
   "cell_type": "markdown",
   "metadata": {},
   "source": [
    "Before downloading dataset, you need to create an account on Kaggle. Instructions for using the Kaggle API can be seen at https://www.kaggle.com/docs/api\n",
    "This dataset contains 991MB and two versions of the simulation covid spread lombardy etc"
   ]
  },
  {
   "cell_type": "code",
   "execution_count": null,
   "metadata": {},
   "outputs": [],
   "source": [
    "FORCE_DOWNLOAD = False\n",
    "files_core = \"covid-seird-lombardy-libmesh/covid-seird-lombardy-libmesh/\"\n",
    "if not os.path.exists(files_core) or FORCE_DOWNLOAD: \n",
    "    ! kaggle datasets download -d gfbarros/covid-19-spread-in-lombardy-italy"
   ]
  },
  {
   "attachments": {},
   "cell_type": "markdown",
   "metadata": {},
   "source": [
    "\"Zip file corrupted or not a Zip file. Check zip file location or integrity\"\n",
    "\"(or try downloading dataset again by switch FORCE_DOWNLOAD\"\n",
    "\"to True on the previous Jupyter Notebook cell).\""
   ]
  },
  {
   "attachments": {},
   "cell_type": "markdown",
   "metadata": {},
   "source": [
    "We need to unzip etc etc etc\n",
    "points to data folder"
   ]
  },
  {
   "cell_type": "code",
   "execution_count": null,
   "metadata": {},
   "outputs": [],
   "source": [
    "def unpack_kaggle_dataset(filepath):\n",
    "    with zipfile.ZipFile(\"covid-19-spread-in-lombardy-italy.zip\", \"r\") as zip_ref:\n",
    "        zip_ref.extractall(\".\")\n",
    "    return\n",
    "\n",
    "\n",
    "unpack_kaggle_dataset(\"covid-19-spread-in-lombardy-italy.zip\")"
   ]
  },
  {
   "attachments": {},
   "cell_type": "markdown",
   "metadata": {},
   "source": [
    "Let's instantiate the dataset etc etc etc"
   ]
  },
  {
   "cell_type": "code",
   "execution_count": 19,
   "metadata": {},
   "outputs": [],
   "source": [
    "files_core = \"covid-seird-lombardy-libmesh/covid-seird-lombardy-libmesh/\"\n",
    "os_walk_files = next(os.walk(files_core))\n",
    "folders = natsorted(os_walk_files[1])\n",
    "\n",
    "filenames = [\n",
    "    Path(files_core) / Path(snapshot_folder) / Path(f\"out_1_000_{str(i).zfill(5)}.h5\")\n",
    "    for i, snapshot_folder in enumerate(folders)\n",
    "]\n",
    "# for root, directory, filename in :\n",
    "#     print(root, filename)\n",
    "#     filenames.append(Path(files_core) / Path(directory) / Path(filename))"
   ]
  },
  {
   "cell_type": "code",
   "execution_count": 20,
   "metadata": {},
   "outputs": [
    {
     "data": {
      "text/plain": [
       "[PosixPath('covid-seird-lombardy-libmesh/covid-seird-lombardy-libmesh/step0/out_1_000_00000.h5'),\n",
       " PosixPath('covid-seird-lombardy-libmesh/covid-seird-lombardy-libmesh/step1/out_1_000_00001.h5'),\n",
       " PosixPath('covid-seird-lombardy-libmesh/covid-seird-lombardy-libmesh/step2/out_1_000_00002.h5'),\n",
       " PosixPath('covid-seird-lombardy-libmesh/covid-seird-lombardy-libmesh/step3/out_1_000_00003.h5'),\n",
       " PosixPath('covid-seird-lombardy-libmesh/covid-seird-lombardy-libmesh/step4/out_1_000_00004.h5')]"
      ]
     },
     "execution_count": 20,
     "metadata": {},
     "output_type": "execute_result"
    }
   ],
   "source": [
    "filenames[:5]"
   ]
  },
  {
   "cell_type": "code",
   "execution_count": 21,
   "metadata": {},
   "outputs": [],
   "source": [
    "snapshot_ingestion_parameters = {\n",
    "    \"filenames\": filenames,\n",
    "    \"dataset\": \"s\",\n",
    "}"
   ]
  },
  {
   "cell_type": "code",
   "execution_count": 22,
   "metadata": {},
   "outputs": [
    {
     "name": "stderr",
     "output_type": "stream",
     "text": [
      "2023-04-15 18:21:43,321 - src.preprocessing.build_snapshots - INFO - Starting choice of file type:\n",
      "2023-04-15 18:21:43,323 - src.preprocessing.build_snapshots - INFO - libMesh/EdgeCFD HDF5 file selected.\n"
     ]
    }
   ],
   "source": [
    "dataset = snapshots_assembly(\n",
    "    \"h5_libmesh\", snapshot_ingestion_parameters=snapshot_ingestion_parameters\n",
    ")"
   ]
  },
  {
   "cell_type": "code",
   "execution_count": 23,
   "metadata": {},
   "outputs": [
    {
     "data": {
      "text/plain": [
       "(13158, 482)"
      ]
     },
     "execution_count": 23,
     "metadata": {},
     "output_type": "execute_result"
    }
   ],
   "source": [
    "dataset.shape"
   ]
  },
  {
   "cell_type": "code",
   "execution_count": 24,
   "metadata": {},
   "outputs": [],
   "source": [
    "files_core = \"covid-sird-lombardy-freefem/covid-sird-lombardy-freefem/\"\n",
    "os_walk_files = next(os.walk(files_core))\n",
    "files = natsorted(os_walk_files[2])\n",
    "\n",
    "filenames = [\n",
    "    Path(files_core) / Path(f\"{str(i)}infected.vtk\")\n",
    "    for i, _ in zip(range(4, 480, 4), files)\n",
    "]\n",
    "# for root, directory, filename in :\n",
    "#     print(root, filename)\n",
    "#     filenames.append(Path(files_core) / Path(directory) / Path(filename))"
   ]
  },
  {
   "cell_type": "code",
   "execution_count": 25,
   "metadata": {},
   "outputs": [
    {
     "data": {
      "text/plain": [
       "[PosixPath('covid-sird-lombardy-freefem/covid-sird-lombardy-freefem/4infected.vtk'),\n",
       " PosixPath('covid-sird-lombardy-freefem/covid-sird-lombardy-freefem/8infected.vtk'),\n",
       " PosixPath('covid-sird-lombardy-freefem/covid-sird-lombardy-freefem/12infected.vtk'),\n",
       " PosixPath('covid-sird-lombardy-freefem/covid-sird-lombardy-freefem/16infected.vtk'),\n",
       " PosixPath('covid-sird-lombardy-freefem/covid-sird-lombardy-freefem/20infected.vtk')]"
      ]
     },
     "execution_count": 25,
     "metadata": {},
     "output_type": "execute_result"
    }
   ],
   "source": [
    "filenames[:5]"
   ]
  },
  {
   "cell_type": "code",
   "execution_count": 26,
   "metadata": {},
   "outputs": [
    {
     "data": {
      "text/plain": [
       "[PosixPath('covid-sird-lombardy-freefem/covid-sird-lombardy-freefem/460infected.vtk'),\n",
       " PosixPath('covid-sird-lombardy-freefem/covid-sird-lombardy-freefem/464infected.vtk'),\n",
       " PosixPath('covid-sird-lombardy-freefem/covid-sird-lombardy-freefem/468infected.vtk'),\n",
       " PosixPath('covid-sird-lombardy-freefem/covid-sird-lombardy-freefem/472infected.vtk'),\n",
       " PosixPath('covid-sird-lombardy-freefem/covid-sird-lombardy-freefem/476infected.vtk')]"
      ]
     },
     "execution_count": 26,
     "metadata": {},
     "output_type": "execute_result"
    }
   ],
   "source": [
    "filenames[-5:]"
   ]
  },
  {
   "cell_type": "code",
   "execution_count": 27,
   "metadata": {},
   "outputs": [],
   "source": [
    "snapshot_ingestion_parameters = {\n",
    "    \"filenames\": filenames,\n",
    "    \"starting_line\": 125939,\n",
    "    \"ending_line\": 210239,\n",
    "}"
   ]
  },
  {
   "cell_type": "code",
   "execution_count": 28,
   "metadata": {},
   "outputs": [
    {
     "name": "stderr",
     "output_type": "stream",
     "text": [
      "2023-04-15 18:21:53,778 - src.preprocessing.build_snapshots - INFO - Starting choice of file type:\n",
      "2023-04-15 18:21:53,779 - src.preprocessing.build_snapshots - INFO - FreeFem++ vtk file selected.\n"
     ]
    }
   ],
   "source": [
    "dataset = snapshots_assembly(\n",
    "    \"vtk_freefem\", snapshot_ingestion_parameters=snapshot_ingestion_parameters\n",
    ")"
   ]
  },
  {
   "cell_type": "code",
   "execution_count": 29,
   "metadata": {},
   "outputs": [],
   "source": [
    "dmd_parameters = {\n",
    "    \"factorization_algorithm\": \"randomized_svd\",\n",
    "    \"basis_vectors\": 50,\n",
    "    \"randomized_svd_parameters\": {\n",
    "        \"power_iterations\": 1,\n",
    "        \"oversampling\": 20,\n",
    "    },\n",
    "    \"starting_step\": 20,\n",
    "    \"dt_simulation\": 0.05,\n",
    "}"
   ]
  },
  {
   "cell_type": "code",
   "execution_count": 30,
   "metadata": {},
   "outputs": [],
   "source": [
    "dmd = DMD(dataset, dmd_parameters)"
   ]
  },
  {
   "cell_type": "code",
   "execution_count": null,
   "metadata": {},
   "outputs": [],
   "source": [
    "dmd.factorization()"
   ]
  },
  {
   "cell_type": "code",
   "execution_count": null,
   "metadata": {},
   "outputs": [],
   "source": [
    "dmd.dmd_approximation[\"s\"]"
   ]
  },
  {
   "cell_type": "code",
   "execution_count": null,
   "metadata": {},
   "outputs": [],
   "source": [
    "dmd.dmd_core()"
   ]
  },
  {
   "cell_type": "code",
   "execution_count": null,
   "metadata": {},
   "outputs": [],
   "source": [
    "import numpy as np\n",
    "\n",
    "\n",
    "def compute_frobenius_norm(mat_a, mat_b):\n",
    "    return np.linalg.norm(mat_a - mat_b)"
   ]
  },
  {
   "cell_type": "code",
   "execution_count": null,
   "metadata": {},
   "outputs": [],
   "source": [
    "compute_frobenius_norm(dmd.snapshots_matrix, dmd.dmd_approximation[\"dmd_matrix\"])"
   ]
  },
  {
   "cell_type": "code",
   "execution_count": null,
   "metadata": {},
   "outputs": [],
   "source": [
    "dmd.dmd_approximation.keys()"
   ]
  },
  {
   "cell_type": "code",
   "execution_count": null,
   "metadata": {},
   "outputs": [],
   "source": []
  }
 ],
 "metadata": {
  "kernelspec": {
   "display_name": "padme",
   "language": "python",
   "name": "python3"
  },
  "language_info": {
   "codemirror_mode": {
    "name": "ipython",
    "version": 3
   },
   "file_extension": ".py",
   "mimetype": "text/x-python",
   "name": "python",
   "nbconvert_exporter": "python",
   "pygments_lexer": "ipython3",
   "version": "3.11.2"
  },
  "orig_nbformat": 4
 },
 "nbformat": 4,
 "nbformat_minor": 2
}
