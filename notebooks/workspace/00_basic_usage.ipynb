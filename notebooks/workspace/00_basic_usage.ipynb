{
 "cells": [
  {
   "cell_type": "code",
   "execution_count": 1,
   "metadata": {},
   "outputs": [],
   "source": [
    "%load_ext autoreload\n",
    "%autoreload 2\n",
    "\n",
    "import os\n",
    "from pathlib import Path\n",
    "\n",
    "from natsort import natsorted\n",
    "from dotenv import find_dotenv\n",
    "\n",
    "\n",
    "root_dir = os.path.dirname(find_dotenv())"
   ]
  },
  {
   "cell_type": "code",
   "execution_count": 2,
   "metadata": {},
   "outputs": [
    {
     "data": {
      "text/plain": [
       "'/home/bombra/library/padme'"
      ]
     },
     "execution_count": 2,
     "metadata": {},
     "output_type": "execute_result"
    }
   ],
   "source": [
    "root_dir"
   ]
  },
  {
   "cell_type": "code",
   "execution_count": 3,
   "metadata": {},
   "outputs": [],
   "source": [
    "from src import DMD\n",
    "from src import snapshots_assembly\n",
    "from src import (\n",
    "    load_notebook_params,\n",
    "    generate_paths,\n",
    "    download_dataset,\n",
    "    unpack_kaggle_dataset,\n",
    ")\n",
    "\n",
    "from src import PostProcessingDMD"
   ]
  },
  {
   "cell_type": "code",
   "execution_count": 4,
   "metadata": {},
   "outputs": [],
   "source": [
    "notebook_params = load_notebook_params()"
   ]
  },
  {
   "attachments": {},
   "cell_type": "markdown",
   "metadata": {},
   "source": [
    "Before downloading dataset, you need to create an account on Kaggle. Instructions for using the Kaggle API can be seen at https://www.kaggle.com/docs/api\n",
    "This dataset contains 991MB and two versions of the simulation covid spread lombardy etc"
   ]
  },
  {
   "cell_type": "code",
   "execution_count": 5,
   "metadata": {},
   "outputs": [],
   "source": [
    "example_dataset = \"seird\"\n",
    "\n",
    "dict_paths = generate_paths(example_dataset, root_dir, notebook_params)\n",
    "dict_paths\n",
    "\n",
    "download_dataset(dict_paths, example_dataset, notebook_params, FORCE_DOWNLOAD=False)\n",
    "unpack_kaggle_dataset(dict_paths)"
   ]
  },
  {
   "attachments": {},
   "cell_type": "markdown",
   "metadata": {},
   "source": [
    "We need to unzip etc etc etc\n",
    "points to data folder"
   ]
  },
  {
   "attachments": {},
   "cell_type": "markdown",
   "metadata": {},
   "source": [
    "Let's instantiate the dataset etc etc etc"
   ]
  },
  {
   "cell_type": "code",
   "execution_count": 6,
   "metadata": {},
   "outputs": [],
   "source": [
    "os_walk_files = next(os.walk(dict_paths[\"snapshots_filepath\"]))\n",
    "folders = natsorted(os_walk_files[1])\n",
    "\n",
    "filenames = [\n",
    "    dict_paths[\"snapshots_filepath\"]\n",
    "    / Path(snapshot_folder)\n",
    "    / Path(f\"out_1_000_{str(i).zfill(5)}.h5\")\n",
    "    for i, snapshot_folder in enumerate(folders)\n",
    "]"
   ]
  },
  {
   "cell_type": "code",
   "execution_count": 7,
   "metadata": {},
   "outputs": [
    {
     "data": {
      "text/plain": [
       "[PosixPath('/home/bombra/library/padme/data/00_raw/covid-seird-lombardy-libmesh/covid-seird-lombardy-libmesh/step0/out_1_000_00000.h5'),\n",
       " PosixPath('/home/bombra/library/padme/data/00_raw/covid-seird-lombardy-libmesh/covid-seird-lombardy-libmesh/step1/out_1_000_00001.h5'),\n",
       " PosixPath('/home/bombra/library/padme/data/00_raw/covid-seird-lombardy-libmesh/covid-seird-lombardy-libmesh/step2/out_1_000_00002.h5'),\n",
       " PosixPath('/home/bombra/library/padme/data/00_raw/covid-seird-lombardy-libmesh/covid-seird-lombardy-libmesh/step3/out_1_000_00003.h5'),\n",
       " PosixPath('/home/bombra/library/padme/data/00_raw/covid-seird-lombardy-libmesh/covid-seird-lombardy-libmesh/step4/out_1_000_00004.h5')]"
      ]
     },
     "execution_count": 7,
     "metadata": {},
     "output_type": "execute_result"
    }
   ],
   "source": [
    "filenames[:5]"
   ]
  },
  {
   "cell_type": "code",
   "execution_count": 8,
   "metadata": {},
   "outputs": [],
   "source": [
    "snapshot_ingestion_parameters = {\n",
    "    \"filenames\": filenames,\n",
    "    \"dataset\": \"s\",\n",
    "}"
   ]
  },
  {
   "cell_type": "code",
   "execution_count": 9,
   "metadata": {},
   "outputs": [
    {
     "name": "stderr",
     "output_type": "stream",
     "text": [
      "2023-04-16 20:08:19,568 - src.preprocessing.build_snapshots - INFO - Starting choice of file type:\n",
      "2023-04-16 20:08:19,569 - src.preprocessing.build_snapshots - INFO - libMesh/EdgeCFD HDF5 file selected.\n"
     ]
    }
   ],
   "source": [
    "dataset = snapshots_assembly(\n",
    "    \"h5_libmesh\", snapshot_ingestion_parameters=snapshot_ingestion_parameters\n",
    ")"
   ]
  },
  {
   "cell_type": "code",
   "execution_count": 10,
   "metadata": {},
   "outputs": [
    {
     "data": {
      "text/plain": [
       "(13158, 482)"
      ]
     },
     "execution_count": 10,
     "metadata": {},
     "output_type": "execute_result"
    }
   ],
   "source": [
    "dataset.shape"
   ]
  },
  {
   "cell_type": "code",
   "execution_count": 11,
   "metadata": {},
   "outputs": [],
   "source": [
    "example_dataset = \"sird\"\n",
    "\n",
    "dict_paths = generate_paths(example_dataset, root_dir, notebook_params)\n",
    "dict_paths\n",
    "\n",
    "download_dataset(dict_paths, example_dataset, notebook_params, FORCE_DOWNLOAD=False)\n",
    "unpack_kaggle_dataset(dict_paths)"
   ]
  },
  {
   "cell_type": "code",
   "execution_count": 12,
   "metadata": {},
   "outputs": [],
   "source": [
    "os_walk_files = next(os.walk(dict_paths[\"snapshots_filepath\"]))\n",
    "files = natsorted(os_walk_files[2])\n",
    "\n",
    "filenames = [\n",
    "    dict_paths[\"snapshots_filepath\"] / Path(f\"{str(i)}infected.vtk\")\n",
    "    for i, _ in zip(range(4, 480, 4), files)\n",
    "]"
   ]
  },
  {
   "cell_type": "code",
   "execution_count": 13,
   "metadata": {},
   "outputs": [
    {
     "data": {
      "text/plain": [
       "[PosixPath('/home/bombra/library/padme/data/00_raw/covid-sird-lombardy-freefem/covid-sird-lombardy-freefem/4infected.vtk'),\n",
       " PosixPath('/home/bombra/library/padme/data/00_raw/covid-sird-lombardy-freefem/covid-sird-lombardy-freefem/8infected.vtk'),\n",
       " PosixPath('/home/bombra/library/padme/data/00_raw/covid-sird-lombardy-freefem/covid-sird-lombardy-freefem/12infected.vtk'),\n",
       " PosixPath('/home/bombra/library/padme/data/00_raw/covid-sird-lombardy-freefem/covid-sird-lombardy-freefem/16infected.vtk'),\n",
       " PosixPath('/home/bombra/library/padme/data/00_raw/covid-sird-lombardy-freefem/covid-sird-lombardy-freefem/20infected.vtk')]"
      ]
     },
     "execution_count": 13,
     "metadata": {},
     "output_type": "execute_result"
    }
   ],
   "source": [
    "filenames[:5]"
   ]
  },
  {
   "cell_type": "code",
   "execution_count": 14,
   "metadata": {},
   "outputs": [
    {
     "data": {
      "text/plain": [
       "[PosixPath('/home/bombra/library/padme/data/00_raw/covid-sird-lombardy-freefem/covid-sird-lombardy-freefem/460infected.vtk'),\n",
       " PosixPath('/home/bombra/library/padme/data/00_raw/covid-sird-lombardy-freefem/covid-sird-lombardy-freefem/464infected.vtk'),\n",
       " PosixPath('/home/bombra/library/padme/data/00_raw/covid-sird-lombardy-freefem/covid-sird-lombardy-freefem/468infected.vtk'),\n",
       " PosixPath('/home/bombra/library/padme/data/00_raw/covid-sird-lombardy-freefem/covid-sird-lombardy-freefem/472infected.vtk'),\n",
       " PosixPath('/home/bombra/library/padme/data/00_raw/covid-sird-lombardy-freefem/covid-sird-lombardy-freefem/476infected.vtk')]"
      ]
     },
     "execution_count": 14,
     "metadata": {},
     "output_type": "execute_result"
    }
   ],
   "source": [
    "filenames[-5:]"
   ]
  },
  {
   "cell_type": "code",
   "execution_count": 15,
   "metadata": {},
   "outputs": [],
   "source": [
    "snapshot_ingestion_parameters = {\n",
    "    \"filenames\": filenames,\n",
    "    \"starting_line\": 125939,\n",
    "    \"ending_line\": 210239,\n",
    "}"
   ]
  },
  {
   "cell_type": "code",
   "execution_count": 16,
   "metadata": {},
   "outputs": [
    {
     "name": "stderr",
     "output_type": "stream",
     "text": [
      "2023-04-16 20:08:20,286 - src.preprocessing.build_snapshots - INFO - Starting choice of file type:\n",
      "2023-04-16 20:08:20,287 - src.preprocessing.build_snapshots - INFO - FreeFem++ vtk file selected.\n"
     ]
    }
   ],
   "source": [
    "# dataset = snapshots_assembly(\n",
    "#     \"vtk_freefem\", snapshot_ingestion_parameters=snapshot_ingestion_parameters\n",
    "# )"
   ]
  },
  {
   "cell_type": "code",
   "execution_count": null,
   "metadata": {},
   "outputs": [],
   "source": [
    "dmd_parameters = {\n",
    "    \"factorization_algorithm\": \"randomized_svd\",\n",
    "    \"basis_vectors\": 50,\n",
    "    \"randomized_svd_parameters\": {\n",
    "        \"power_iterations\": 1,\n",
    "        \"oversampling\": 20,\n",
    "    },\n",
    "    \"starting_step\": 20,\n",
    "    \"dt_simulation\": 0.05,\n",
    "}"
   ]
  },
  {
   "cell_type": "code",
   "execution_count": null,
   "metadata": {},
   "outputs": [],
   "source": [
    "dmd = DMD(dataset, dmd_parameters)"
   ]
  },
  {
   "cell_type": "code",
   "execution_count": null,
   "metadata": {},
   "outputs": [],
   "source": [
    "dmd.factorization()"
   ]
  },
  {
   "cell_type": "code",
   "execution_count": null,
   "metadata": {},
   "outputs": [],
   "source": [
    "dmd.dmd_approximation[\"s\"]"
   ]
  },
  {
   "cell_type": "code",
   "execution_count": null,
   "metadata": {},
   "outputs": [],
   "source": []
  },
  {
   "cell_type": "code",
   "execution_count": null,
   "metadata": {},
   "outputs": [],
   "source": [
    "dmd.dmd_core()"
   ]
  },
  {
   "cell_type": "code",
   "execution_count": null,
   "metadata": {},
   "outputs": [],
   "source": [
    "import numpy as np\n",
    "\n",
    "\n",
    "def compute_frobenius_norm(mat_a, mat_b):\n",
    "    return np.linalg.norm(mat_a - mat_b) / np.linalg.norm(mat_a)"
   ]
  },
  {
   "cell_type": "code",
   "execution_count": null,
   "metadata": {},
   "outputs": [],
   "source": [
    "compute_frobenius_norm(dmd.snapshots_matrix, dmd.dmd_approximation[\"dmd_matrix\"])"
   ]
  },
  {
   "cell_type": "code",
   "execution_count": null,
   "metadata": {},
   "outputs": [],
   "source": [
    "dmd.dmd_approximation.keys()"
   ]
  },
  {
   "cell_type": "code",
   "execution_count": null,
   "metadata": {},
   "outputs": [],
   "source": [
    "dmd_visualizer = PostProcessingDMD(dmd.dmd_approximation)"
   ]
  },
  {
   "cell_type": "code",
   "execution_count": null,
   "metadata": {},
   "outputs": [],
   "source": [
    "dmd.dmd_approximation[\"s\"].shape"
   ]
  },
  {
   "cell_type": "code",
   "execution_count": null,
   "metadata": {},
   "outputs": [],
   "source": [
    "dmd_visualizer.plot_singular_values(\"plotly\")"
   ]
  },
  {
   "cell_type": "code",
   "execution_count": null,
   "metadata": {},
   "outputs": [],
   "source": [
    "dmd.dmd_approximation[\"eigenvals_original\"]"
   ]
  },
  {
   "cell_type": "code",
   "execution_count": null,
   "metadata": {},
   "outputs": [],
   "source": [
    "dmd_visualizer.plot_eigenvalues(\"plotly\")"
   ]
  },
  {
   "cell_type": "code",
   "execution_count": null,
   "metadata": {},
   "outputs": [],
   "source": [
    "dmd.dmd_approximation.keys()"
   ]
  },
  {
   "cell_type": "code",
   "execution_count": null,
   "metadata": {},
   "outputs": [],
   "source": []
  }
 ],
 "metadata": {
  "kernelspec": {
   "display_name": "padme",
   "language": "python",
   "name": "python3"
  },
  "language_info": {
   "codemirror_mode": {
    "name": "ipython",
    "version": 3
   },
   "file_extension": ".py",
   "mimetype": "text/x-python",
   "name": "python",
   "nbconvert_exporter": "python",
   "pygments_lexer": "ipython3",
   "version": "3.11.2"
  },
  "orig_nbformat": 4
 },
 "nbformat": 4,
 "nbformat_minor": 2
}
