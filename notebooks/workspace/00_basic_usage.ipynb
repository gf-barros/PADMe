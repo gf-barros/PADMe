{
 "cells": [
  {
   "attachments": {},
   "cell_type": "markdown",
   "metadata": {},
   "source": [
    "# 00 - PADMe - Basic Usage"
   ]
  },
  {
   "attachments": {},
   "cell_type": "markdown",
   "metadata": {},
   "source": [
    "Before anything, make sure that the conda environment is installed. Using the terminal, once you are at the root directory of this project, just type:\n",
    "\n",
    "`make create_environment`\n",
    "\n",
    "And then:\n",
    "\n",
    "`make requirements`\n",
    "\n",
    "Finally, to convert our conda env to Jupyter kernel, type:\n",
    "\n",
    "`make env_to_kernel`\n",
    "\n",
    "If no errors were found, we are good to go."
   ]
  },
  {
   "attachments": {},
   "cell_type": "markdown",
   "metadata": {},
   "source": [
    "Welcome to the very first Jupyter Notebook using PADMe for Dynamic Mode Decomposition processing. We start by importing the necesssary packages:"
   ]
  },
  {
   "cell_type": "code",
   "execution_count": 1,
   "metadata": {},
   "outputs": [],
   "source": [
    "%load_ext autoreload\n",
    "%autoreload 2\n",
    "\n",
    "import os\n",
    "from pathlib import Path \n",
    "\n",
    "from natsort import natsorted # Required for sorting filename correctly\n",
    "from dotenv import find_dotenv # Required for locating project's root dir\n",
    "\n",
    "from src import DMD # DMD class for ingesting and processing data\n",
    "from src import snapshots_assembly # Function for assembling the Snapshots Matrix\n",
    "from src import (\n",
    "    load_notebook_params, # Function that loads predefined examples and paths\n",
    "    generate_paths, # Function that creates the paths to datasets\n",
    "    download_dataset, # Function that downloads the dataset from Kaggle\n",
    "    unpack_kaggle_dataset, # Function that unzips the downloaded dataset\n",
    ")\n",
    "\n",
    "from src import PostProcessingDMD # Class used for postprocessing and dataviz\n",
    "\n",
    "root_dir = os.path.dirname(find_dotenv())"
   ]
  },
  {
   "attachments": {},
   "cell_type": "markdown",
   "metadata": {},
   "source": [
    "Let's see if the `root_dir` is correctly set up. This is required for properly pointing directions to the locations where data will be stored. Make sure `root_dir` points to the root directory of this project."
   ]
  },
  {
   "cell_type": "code",
   "execution_count": 3,
   "metadata": {},
   "outputs": [
    {
     "data": {
      "text/plain": [
       "'/Users/gabrielbarros/Desktop/doutorado/library/padme'"
      ]
     },
     "execution_count": 3,
     "metadata": {},
     "output_type": "execute_result"
    }
   ],
   "source": [
    "root_dir"
   ]
  },
  {
   "attachments": {},
   "cell_type": "markdown",
   "metadata": {},
   "source": [
    "Now let's get all notebook params. This function reads from a `.yaml` file in the `notebooks/` directory that contains example file names and paths."
   ]
  },
  {
   "cell_type": "code",
   "execution_count": 4,
   "metadata": {},
   "outputs": [],
   "source": [
    "notebook_params = load_notebook_params()"
   ]
  },
  {
   "attachments": {},
   "cell_type": "markdown",
   "metadata": {},
   "source": [
    "Before downloading dataset, you need to create an account on Kaggle. Instructions for using the Kaggle API can be seen at sections **Installation** and **Authentication** on https://www.kaggle.com/docs/api. \n",
    "\n",
    "Basically, you need to:\n",
    "\n",
    "1. Create a Kaggle account at https://www.kaggle.com/.\n",
    "2. Click on you avatar (top right) and then `settings`.\n",
    "3. At the API section, click `Create New Token`. This will generate your `kaggle.json` file and make it available for download.\n",
    "4. Create a hidden directory on your home path e.g. `mkdir $HOME/.kaggle` or `cd && mkdir .kaggle`.\n",
    "5. Copy and paste your `kaggle.json` file into the `.kaggle` directory.\n",
    "\n",
    "Once your `~/.kaggle/kaggle.json` file is set up, we can download the datasets used in this example.\n",
    "\n",
    "For this notebook, we will used the `covid-19-spread-in-lombardy-italy` dataset. To download this dataset, the `example_dataset` variable can be either `sird` or `seird`. This dataset was generated when modeled the COVID-19 spread in the Lombardy region (Italy) using PDE-based compartmental models spatially discretized using the Finite Element Method. \n",
    "  \n",
    "This zip file contains 991MB and contains two versions of the simulation. \n",
    "The datasets are:\n",
    "- `covid-sird-lombardy-freefem` where a SIRD model was approximated and modeled using the FreeFEM++ library. More details can be seen on: `citar artigo do Alex aqui`\n",
    "- `covid-seird-lombardy-libmesh` where a SEIRD model was approximated and modeled using the libMesh library. More details can be seen on: `citar artigo da Malu aqui`"
   ]
  },
  {
   "cell_type": "code",
   "execution_count": 6,
   "metadata": {},
   "outputs": [
    {
     "name": "stdout",
     "output_type": "stream",
     "text": [
      "{'complete_filepath': PosixPath('/Users/gabrielbarros/Desktop/doutorado/library/padme/data/00_raw'), 'complete_filename': PosixPath('/Users/gabrielbarros/Desktop/doutorado/library/padme/data/00_raw/covid-19-spread-in-lombardy-italy.zip'), 'snapshots_filepath': PosixPath('/Users/gabrielbarros/Desktop/doutorado/library/padme/data/00_raw/covid-sird-lombardy-freefem/covid-sird-lombardy-freefem')}\n",
      "Warning: Your Kaggle API key is readable by other users on this system! To fix this, you can run 'chmod 600 /Users/gabrielbarros/.kaggle/kaggle.json'\n",
      "covid-19-spread-in-lombardy-italy.zip: Skipping, found more recently modified local copy (use --force to force download)\n"
     ]
    }
   ],
   "source": [
    "example_dataset = \"sird\"\n",
    "\n",
    "dict_paths = generate_paths(example_dataset, root_dir, notebook_params)\n",
    "print(dict_paths)\n",
    "\n",
    "download_dataset(dict_paths, example_dataset, notebook_params, FORCE_DOWNLOAD=False)\n",
    "unpack_kaggle_dataset(dict_paths)"
   ]
  },
  {
   "attachments": {},
   "cell_type": "markdown",
   "metadata": {},
   "source": [
    "If the previous cell was correctly executed, there is a zipfile in your `padme/data/00_raw/` folder and two directories, containing each one of the datasets described. They are in their raw form, that is, exactly in the form where the numerical simulations output them.\n",
    "\n",
    "This is one of the most annoying parts of DMD architectures and **PADMe** aims to automatize this procedure. If you explore the two generated folders, you will see that the `susceptible` snapshots on the `covid-sird-lombardy-freefem` dataset are of the form:\n",
    "- `covid-sird-lombardy-freefem/covid-sird-lombardy-freefem/4susceptible.vtk`\n",
    "- `covid-sird-lombardy-freefem/covid-sird-lombardy-freefem/8susceptible.vtk`\n",
    "- `covid-sird-lombardy-freefem/covid-sird-lombardy-freefem/12susceptible.vtk`\n",
    "\n",
    "while the `susceptible` snapshots on the `covid-seird-lombardy-libmesh` dataset are of the form:\n",
    "- `covid-seird-lombardy-libmesh/covid-seird-lombardy-libmesh/step0/out_1_000_00000.h5`\n",
    "- `covid-seird-lombardy-libmesh/covid-seird-lombardy-libmesh/step0/out_1_000_00001.h5`\n",
    "- `covid-seird-lombardy-libmesh/covid-seird-lombardy-libmesh/step0/out_1_000_00002.h5`\n",
    "being `s` the dataset inside the `.h5` files containing the susceptibles data.\n",
    "\n",
    "This difference in structure delays the application of DMD to multiple datasets and usually requires attention and time of the engineer. Using **PADMe**, we need to create a list of strings (or Path) containing the snapshots absolute filename. The following cell does that for the first case."
   ]
  },
  {
   "cell_type": "code",
   "execution_count": 7,
   "metadata": {},
   "outputs": [],
   "source": [
    "os_walk_files = next(os.walk(dict_paths[\"snapshots_filepath\"]))\n",
    "files = natsorted(os_walk_files[2])\n",
    "\n",
    "filenames = [\n",
    "    dict_paths[\"snapshots_filepath\"] / Path(f\"{str(i)}infected.vtk\")\n",
    "    for i, _ in zip(range(4, 480, 4), files)\n",
    "]"
   ]
  },
  {
   "attachments": {},
   "cell_type": "markdown",
   "metadata": {},
   "source": [
    "Let's check if the five first and last filenames are correct: "
   ]
  },
  {
   "cell_type": "code",
   "execution_count": 8,
   "metadata": {},
   "outputs": [
    {
     "data": {
      "text/plain": [
       "[PosixPath('/Users/gabrielbarros/Desktop/doutorado/library/padme/data/00_raw/covid-sird-lombardy-freefem/covid-sird-lombardy-freefem/4infected.vtk'),\n",
       " PosixPath('/Users/gabrielbarros/Desktop/doutorado/library/padme/data/00_raw/covid-sird-lombardy-freefem/covid-sird-lombardy-freefem/8infected.vtk'),\n",
       " PosixPath('/Users/gabrielbarros/Desktop/doutorado/library/padme/data/00_raw/covid-sird-lombardy-freefem/covid-sird-lombardy-freefem/12infected.vtk'),\n",
       " PosixPath('/Users/gabrielbarros/Desktop/doutorado/library/padme/data/00_raw/covid-sird-lombardy-freefem/covid-sird-lombardy-freefem/16infected.vtk'),\n",
       " PosixPath('/Users/gabrielbarros/Desktop/doutorado/library/padme/data/00_raw/covid-sird-lombardy-freefem/covid-sird-lombardy-freefem/20infected.vtk')]"
      ]
     },
     "execution_count": 8,
     "metadata": {},
     "output_type": "execute_result"
    }
   ],
   "source": [
    "filenames[:5]"
   ]
  },
  {
   "cell_type": "code",
   "execution_count": 9,
   "metadata": {},
   "outputs": [
    {
     "data": {
      "text/plain": [
       "[PosixPath('/Users/gabrielbarros/Desktop/doutorado/library/padme/data/00_raw/covid-sird-lombardy-freefem/covid-sird-lombardy-freefem/460infected.vtk'),\n",
       " PosixPath('/Users/gabrielbarros/Desktop/doutorado/library/padme/data/00_raw/covid-sird-lombardy-freefem/covid-sird-lombardy-freefem/464infected.vtk'),\n",
       " PosixPath('/Users/gabrielbarros/Desktop/doutorado/library/padme/data/00_raw/covid-sird-lombardy-freefem/covid-sird-lombardy-freefem/468infected.vtk'),\n",
       " PosixPath('/Users/gabrielbarros/Desktop/doutorado/library/padme/data/00_raw/covid-sird-lombardy-freefem/covid-sird-lombardy-freefem/472infected.vtk'),\n",
       " PosixPath('/Users/gabrielbarros/Desktop/doutorado/library/padme/data/00_raw/covid-sird-lombardy-freefem/covid-sird-lombardy-freefem/476infected.vtk')]"
      ]
     },
     "execution_count": 9,
     "metadata": {},
     "output_type": "execute_result"
    }
   ],
   "source": [
    "filenames[-5:]"
   ]
  },
  {
   "attachments": {},
   "cell_type": "markdown",
   "metadata": {},
   "source": [
    "Now that our list of filenames is complete, we can create the `snapshot_ingestion_parameters` dictionary. Given that the `sird` simulation consists of ASCII `.vtk` files, we can take a look at one of them to see the starting and ending lines where nodal values were stored. In this case, the dictionary is the following:"
   ]
  },
  {
   "cell_type": "code",
   "execution_count": 10,
   "metadata": {},
   "outputs": [],
   "source": [
    "snapshot_ingestion_parameters = {\n",
    "    \"filenames\": filenames,\n",
    "    \"starting_line\": 125939,\n",
    "    \"ending_line\": 210239,\n",
    "}"
   ]
  },
  {
   "attachments": {},
   "cell_type": "markdown",
   "metadata": {},
   "source": [
    "Now let's load our dataset using `snapshots_assembly`"
   ]
  },
  {
   "cell_type": "code",
   "execution_count": 11,
   "metadata": {},
   "outputs": [
    {
     "name": "stderr",
     "output_type": "stream",
     "text": [
      "2023-04-17 10:40:25,657 - src.preprocessing.build_snapshots - INFO - Starting choice of file type:\n",
      "2023-04-17 10:40:25,658 - src.preprocessing.build_snapshots - INFO - FreeFem++ vtk file selected.\n"
     ]
    },
    {
     "data": {
      "text/plain": [
       "(84300, 119)"
      ]
     },
     "execution_count": 11,
     "metadata": {},
     "output_type": "execute_result"
    }
   ],
   "source": [
    "dataset = snapshots_assembly(\n",
    "    \"vtk_freefem\", snapshot_ingestion_parameters=snapshot_ingestion_parameters\n",
    ")\n",
    "dataset.shape"
   ]
  },
  {
   "attachments": {},
   "cell_type": "markdown",
   "metadata": {},
   "source": [
    "Now our snapshots matrix contain all snapshots and dimensions of `(84300, 119)`. It is now ready to be ingested on the DMD class. Let's see how it works for libMesh/EdgeCFD `.h5` files. We need to regenerate the `dict_paths` that points to the folders containing the data. We don't need to redownload any datasets, but the functions will check that for us:"
   ]
  },
  {
   "cell_type": "code",
   "execution_count": 12,
   "metadata": {},
   "outputs": [],
   "source": [
    "example_dataset = \"seird\"\n",
    "\n",
    "dict_paths = generate_paths(example_dataset, root_dir, notebook_params)\n",
    "dict_paths\n",
    "\n",
    "download_dataset(dict_paths, example_dataset, notebook_params, FORCE_DOWNLOAD=False)\n",
    "unpack_kaggle_dataset(dict_paths)"
   ]
  },
  {
   "attachments": {},
   "cell_type": "markdown",
   "metadata": {},
   "source": [
    "Now proceeding with our list of filenames:"
   ]
  },
  {
   "cell_type": "code",
   "execution_count": 13,
   "metadata": {},
   "outputs": [],
   "source": [
    "os_walk_files = next(os.walk(dict_paths[\"snapshots_filepath\"]))\n",
    "folders = natsorted(os_walk_files[1])\n",
    "\n",
    "filenames = [\n",
    "    dict_paths[\"snapshots_filepath\"]\n",
    "    / Path(snapshot_folder)\n",
    "    / Path(f\"out_1_000_{str(i).zfill(5)}.h5\")\n",
    "    for i, snapshot_folder in enumerate(folders)\n",
    "]"
   ]
  },
  {
   "attachments": {},
   "cell_type": "markdown",
   "metadata": {},
   "source": [
    "Checking the beginning and the end of the list:"
   ]
  },
  {
   "cell_type": "code",
   "execution_count": 14,
   "metadata": {},
   "outputs": [
    {
     "data": {
      "text/plain": [
       "[PosixPath('/Users/gabrielbarros/Desktop/doutorado/library/padme/data/00_raw/covid-seird-lombardy-libmesh/covid-seird-lombardy-libmesh/step0/out_1_000_00000.h5'),\n",
       " PosixPath('/Users/gabrielbarros/Desktop/doutorado/library/padme/data/00_raw/covid-seird-lombardy-libmesh/covid-seird-lombardy-libmesh/step1/out_1_000_00001.h5'),\n",
       " PosixPath('/Users/gabrielbarros/Desktop/doutorado/library/padme/data/00_raw/covid-seird-lombardy-libmesh/covid-seird-lombardy-libmesh/step2/out_1_000_00002.h5'),\n",
       " PosixPath('/Users/gabrielbarros/Desktop/doutorado/library/padme/data/00_raw/covid-seird-lombardy-libmesh/covid-seird-lombardy-libmesh/step3/out_1_000_00003.h5'),\n",
       " PosixPath('/Users/gabrielbarros/Desktop/doutorado/library/padme/data/00_raw/covid-seird-lombardy-libmesh/covid-seird-lombardy-libmesh/step4/out_1_000_00004.h5')]"
      ]
     },
     "execution_count": 14,
     "metadata": {},
     "output_type": "execute_result"
    }
   ],
   "source": [
    "filenames[:5]"
   ]
  },
  {
   "cell_type": "code",
   "execution_count": 15,
   "metadata": {},
   "outputs": [
    {
     "data": {
      "text/plain": [
       "[PosixPath('/Users/gabrielbarros/Desktop/doutorado/library/padme/data/00_raw/covid-seird-lombardy-libmesh/covid-seird-lombardy-libmesh/step477/out_1_000_00477.h5'),\n",
       " PosixPath('/Users/gabrielbarros/Desktop/doutorado/library/padme/data/00_raw/covid-seird-lombardy-libmesh/covid-seird-lombardy-libmesh/step478/out_1_000_00478.h5'),\n",
       " PosixPath('/Users/gabrielbarros/Desktop/doutorado/library/padme/data/00_raw/covid-seird-lombardy-libmesh/covid-seird-lombardy-libmesh/step479/out_1_000_00479.h5'),\n",
       " PosixPath('/Users/gabrielbarros/Desktop/doutorado/library/padme/data/00_raw/covid-seird-lombardy-libmesh/covid-seird-lombardy-libmesh/step480/out_1_000_00480.h5'),\n",
       " PosixPath('/Users/gabrielbarros/Desktop/doutorado/library/padme/data/00_raw/covid-seird-lombardy-libmesh/covid-seird-lombardy-libmesh/step481/out_1_000_00481.h5')]"
      ]
     },
     "execution_count": 15,
     "metadata": {},
     "output_type": "execute_result"
    }
   ],
   "source": [
    "filenames[-5:]"
   ]
  },
  {
   "attachments": {},
   "cell_type": "markdown",
   "metadata": {},
   "source": [
    "Now we fill the `snapshot_ingestion_dictionary` and let's assemble our snapshots matrix:"
   ]
  },
  {
   "cell_type": "code",
   "execution_count": 16,
   "metadata": {},
   "outputs": [],
   "source": [
    "snapshot_ingestion_parameters = {\n",
    "    \"filenames\": filenames,\n",
    "    \"dataset\": \"s\",\n",
    "}"
   ]
  },
  {
   "cell_type": "code",
   "execution_count": 17,
   "metadata": {},
   "outputs": [
    {
     "name": "stderr",
     "output_type": "stream",
     "text": [
      "2023-04-17 10:40:47,244 - src.preprocessing.build_snapshots - INFO - Starting choice of file type:\n",
      "2023-04-17 10:40:47,245 - src.preprocessing.build_snapshots - INFO - libMesh/EdgeCFD HDF5 file selected.\n"
     ]
    },
    {
     "data": {
      "text/plain": [
       "(13158, 482)"
      ]
     },
     "execution_count": 17,
     "metadata": {},
     "output_type": "execute_result"
    }
   ],
   "source": [
    "dataset = snapshots_assembly(\n",
    "    \"h5_libmesh\", snapshot_ingestion_parameters=snapshot_ingestion_parameters\n",
    ")\n",
    "dataset.shape"
   ]
  },
  {
   "attachments": {},
   "cell_type": "markdown",
   "metadata": {},
   "source": [
    "And now we have our snapshots matrix containing dimensions `(13158, 482)`. Let's fill the `dmd_parameters` dictionary and process this data."
   ]
  },
  {
   "cell_type": "code",
   "execution_count": 18,
   "metadata": {},
   "outputs": [],
   "source": [
    "dmd_parameters = {\n",
    "    \"factorization_algorithm\": \"randomized_svd\",\n",
    "    \"basis_vectors\": 25,\n",
    "    \"randomized_svd_parameters\": {\n",
    "        \"power_iterations\": 1,\n",
    "        \"oversampling\": 20,\n",
    "    },\n",
    "    \"starting_step\": 25,  # Can be 0 for susceptibles, but should be >0 for zero initialized fields.\n",
    "    \"dt_simulation\": 0.05,\n",
    "}"
   ]
  },
  {
   "attachments": {},
   "cell_type": "markdown",
   "metadata": {},
   "source": [
    "Now we instantiate our `DMD` class:"
   ]
  },
  {
   "cell_type": "code",
   "execution_count": 19,
   "metadata": {},
   "outputs": [],
   "source": [
    "dmd = DMD(dataset, dmd_parameters)"
   ]
  },
  {
   "attachments": {},
   "cell_type": "markdown",
   "metadata": {},
   "source": [
    "The `.factorization()` method is responsible for calling the factorization method added in the `dmd_parameters` dictionary. In this case, it is the `randomized_svd` algorithm:"
   ]
  },
  {
   "cell_type": "code",
   "execution_count": 20,
   "metadata": {},
   "outputs": [],
   "source": [
    "dmd.factorization()"
   ]
  },
  {
   "attachments": {},
   "cell_type": "markdown",
   "metadata": {},
   "source": [
    "All the outputs obtained on objects instantiated on the `DMD` class contain an attribute called `.dmd_approximation`. This attribute is a dictionary containing all possible outputs from the DMD processing. Let's see our singular values from the `.factorization()` method.  "
   ]
  },
  {
   "cell_type": "code",
   "execution_count": 21,
   "metadata": {},
   "outputs": [
    {
     "data": {
      "text/plain": [
       "array([1.96658875e+06, 1.37641076e+05, 2.38207835e+04, 5.60003842e+03,\n",
       "       1.71063331e+03, 7.09952010e+02, 3.47684699e+02, 1.99597805e+02,\n",
       "       1.17514461e+02, 3.97101616e+01, 2.89626393e+01, 1.46133069e+01,\n",
       "       8.06319463e+00, 4.08276289e+00, 4.13163129e-01, 1.17156283e-01,\n",
       "       5.92234843e-02, 4.86922306e-02, 3.21643338e-02, 2.05488487e-02,\n",
       "       1.25430999e-02, 1.07768266e-02, 3.58678706e-03, 3.23446830e-03,\n",
       "       1.51457951e-03])"
      ]
     },
     "execution_count": 21,
     "metadata": {},
     "output_type": "execute_result"
    }
   ],
   "source": [
    "dmd.dmd_approximation[\"s\"]"
   ]
  },
  {
   "attachments": {},
   "cell_type": "markdown",
   "metadata": {},
   "source": [
    "Now let's proceed to compute our DMD approximation. We invoke the `.dmd_core()` method from the `dmd` object."
   ]
  },
  {
   "cell_type": "code",
   "execution_count": 22,
   "metadata": {},
   "outputs": [],
   "source": [
    "dmd.dmd_core()"
   ]
  },
  {
   "attachments": {},
   "cell_type": "markdown",
   "metadata": {},
   "source": [
    "Now let's take a look at our outputs:"
   ]
  },
  {
   "cell_type": "code",
   "execution_count": 23,
   "metadata": {},
   "outputs": [
    {
     "data": {
      "text/plain": [
       "dict_keys(['snapshots_matrix', 'u', 's', 'vt', 'eigenvals_original', 'eigenvals_processed', 't', 'dmd_matrix'])"
      ]
     },
     "execution_count": 23,
     "metadata": {},
     "output_type": "execute_result"
    }
   ],
   "source": [
    "dmd.dmd_approximation.keys()"
   ]
  },
  {
   "attachments": {},
   "cell_type": "markdown",
   "metadata": {},
   "source": [
    "The `.dmd_approximation` attribute contains the following keys:\n",
    "- `'snapshots_matrix'` : the sliced snapshots_matrix `[starting_step : ending_step]`\n",
    "- `'u'` : the $\\mathbf{U}$ matrix from SVD\n",
    "- `'s'` : the $\\mathbf{\\Sigma}$ matrix from SVD\n",
    "- `'vt'` : the $\\mathbf{V}^T$ matrix from SVD\n",
    "- `'eigenvals_original'` : Eigenvalues from $\\tilde{\\mathbf{A}}$ matrix\n",
    "- `'eigenvals_processed'` : Eigenvalues from $\\tilde{\\mathbf{A}}$ matrix after $log(\\Lambda)/\\Delta t$\n",
    "- `'t'` : array containing time steps used for approximation\n",
    "- `'dmd_matrix'` : the DMD approximation for all times existent in key `'t'`"
   ]
  },
  {
   "attachments": {},
   "cell_type": "markdown",
   "metadata": {},
   "source": [
    "Now we can postprocess our data and visualize the results. Let's instantiate the `PostProcessingDMD` class."
   ]
  },
  {
   "cell_type": "code",
   "execution_count": 24,
   "metadata": {},
   "outputs": [],
   "source": [
    "dmd_visualizer = PostProcessingDMD(dmd.dmd_approximation)"
   ]
  },
  {
   "attachments": {},
   "cell_type": "markdown",
   "metadata": {},
   "source": [
    "Let's plot the singular values using the `.plot_singular_values()` method. All visualization methods are implemented for `matplotlib`, `seaborn` and `plotly` libraries."
   ]
  },
  {
   "cell_type": "code",
   "execution_count": 25,
   "metadata": {},
   "outputs": [
    {
     "data": {
      "image/png": "[encoded data removed]",
      "text/plain": [
       "<Figure size 640x480 with 1 Axes>"
      ]
     },
     "metadata": {},
     "output_type": "display_data"
    }
   ],
   "source": [
    "dmd_visualizer.plot_singular_values(\"seaborn\")"
   ]
  },
  {
   "attachments": {},
   "cell_type": "markdown",
   "metadata": {},
   "source": [
    "This does make sense. Now let's take a look at the eigenvalues of $\\mathbf{\\tilde{A}}$ and see if our modes are stable. We can plot the eigenvalues using the `.plot_eigenvalues()` method`."
   ]
  },
  {
   "cell_type": "code",
   "execution_count": 26,
   "metadata": {},
   "outputs": [
    {
     "data": {
      "application/vnd.plotly.v1+json": {
       "config": {
        "plotlyServerURL": "https://plot.ly"
       },
       "data": [
        {
         "mode": "markers",
         "type": "scatter",
         "x": [
          0.8931325438999939,
          0.8931325438999939,
          0.8952687961143613,
          0.8952687961143613,
          0.8110863285290838,
          0.9555678881902674,
          0.9555678881902674,
          0.8594325349519667,
          0.8594325349519667,
          0.9239335284858464,
          0.9239335284858464,
          0.8955041481165628,
          0.990031220339253,
          0.990031220339253,
          0.9668496462950784,
          0.9668496462950784,
          0.9976174229998307,
          0.9976174229998307,
          1.0072504564833484,
          1.0072504564833484,
          0.9999999116431754,
          0.9978132056750992,
          0.9978132056750992,
          0.9994960811422247,
          0.9994960811422247
         ],
         "y": [
          0.327746563510047,
          -0.327746563510047,
          0.16964719445820609,
          -0.16964719445820609,
          0,
          0.13488685209114867,
          -0.13488685209114867,
          0.05943594874355455,
          -0.05943594874355455,
          0.08301071765537041,
          -0.08301071765537041,
          0,
          0.09161169749907663,
          -0.09161169749907663,
          0.04921861059086143,
          -0.04921861059086143,
          0.05036686419408584,
          -0.05036686419408584,
          0.03884227491006367,
          -0.03884227491006367,
          0,
          0.00729971428384079,
          -0.00729971428384079,
          0.023567697695032978,
          -0.023567697695032978
         ]
        },
        {
         "line": {
          "color": "grey"
         },
         "mode": "lines",
         "type": "scatter",
         "x": [
          1,
          0.9979866764718844,
          0.9919548128307953,
          0.9819286972627067,
          0.9679487013963562,
          0.9500711177409453,
          0.9283679330160726,
          0.9029265382866212,
          0.8738493770697849,
          0.8412535328311812,
          0.8052702575310586,
          0.7660444431189781,
          0.7237340381050701,
          0.6785094115571322,
          0.6305526670845225,
          0.5800569095711983,
          0.5272254676105025,
          0.4722710747726827,
          0.41541501300188644,
          0.3568862215918719,
          0.2969203753282749,
          0.23575893550942728,
          0.17364817766693041,
          0.1108381999010111,
          0.04758191582374218,
          -0.01586596383480803,
          -0.07924995685678855,
          -0.14231483827328523,
          -0.20480666806519074,
          -0.26647381369003503,
          -0.32706796331742166,
          -0.3863451256931287,
          -0.4440666126057741,
          -0.5000000000000001,
          -0.5539200638661103,
          -0.6056096871376668,
          -0.654860733945285,
          -0.7014748877063214,
          -0.7452644496757547,
          -0.7860530947427875,
          -0.8236765814298327,
          -0.8579834132349771,
          -0.8888354486549234,
          -0.9161084574320697,
          -0.9396926207859083,
          -0.9594929736144974,
          -0.975429786885407,
          -0.9874388886763943,
          -0.9954719225730846,
          -0.9994965423831851,
          -0.9994965423831851,
          -0.9954719225730846,
          -0.9874388886763943,
          -0.975429786885407,
          -0.9594929736144974,
          -0.9396926207859084,
          -0.9161084574320696,
          -0.8888354486549235,
          -0.857983413234977,
          -0.8236765814298328,
          -0.7860530947427874,
          -0.7452644496757548,
          -0.7014748877063213,
          -0.6548607339452852,
          -0.6056096871376667,
          -0.5539200638661105,
          -0.49999999999999967,
          -0.44406661260577396,
          -0.3863451256931287,
          -0.3270679633174219,
          -0.26647381369003464,
          -0.20480666806519054,
          -0.14231483827328525,
          -0.07924995685678878,
          -0.01586596383480761,
          0.04758191582374238,
          0.11083819990101086,
          0.17364817766692997,
          0.23575893550942748,
          0.2969203753282749,
          0.35688622159187167,
          0.4154150130018868,
          0.47227107477268293,
          0.5272254676105024,
          0.5800569095711979,
          0.6305526670845227,
          0.6785094115571323,
          0.7237340381050701,
          0.7660444431189779,
          0.8052702575310589,
          0.8412535328311812,
          0.8738493770697848,
          0.9029265382866211,
          0.9283679330160727,
          0.9500711177409454,
          0.9679487013963562,
          0.9819286972627068,
          0.9919548128307953,
          0.9979866764718844,
          1
         ],
         "y": [
          0,
          0.0634239196565645,
          0.12659245357374926,
          0.18925124436041021,
          0.2511479871810792,
          0.31203344569848707,
          0.3716624556603276,
          0.42979491208917164,
          0.4861967361004687,
          0.5406408174555976,
          0.5929079290546404,
          0.6427876096865393,
          0.690079011482112,
          0.7345917086575333,
          0.7761464642917568,
          0.8145759520503357,
          0.8497254299495144,
          0.8814533634475821,
          0.9096319953545183,
          0.9341478602651068,
          0.9549022414440739,
          0.9718115683235417,
          0.984807753012208,
          0.9938384644612541,
          0.998867339183008,
          0.9998741276738751,
          0.9968547759519424,
          0.9898214418809327,
          0.9788024462147787,
          0.963842158559942,
          0.9450008187146685,
          0.9223542941045814,
          0.8959937742913359,
          0.8660254037844386,
          0.8325698546347714,
          0.795761840530832,
          0.7557495743542584,
          0.7126941713788628,
          0.6667690005162916,
          0.6181589862206051,
          0.5670598638627709,
          0.5136773915734063,
          0.4582265217274105,
          0.4009305354066136,
          0.3420201433256689,
          0.2817325568414296,
          0.2203105327865408,
          0.15800139597334986,
          0.09505604330418244,
          0.031727933498067656,
          -0.03172793349806785,
          -0.09505604330418263,
          -0.15800139597335008,
          -0.22031053278654059,
          -0.28173255684142984,
          -0.34202014332566866,
          -0.40093053540661383,
          -0.4582265217274103,
          -0.5136773915734064,
          -0.5670598638627706,
          -0.6181589862206053,
          -0.6667690005162915,
          -0.7126941713788628,
          -0.7557495743542582,
          -0.7957618405308321,
          -0.8325698546347713,
          -0.8660254037844388,
          -0.895993774291336,
          -0.9223542941045814,
          -0.9450008187146683,
          -0.9638421585599422,
          -0.9788024462147787,
          -0.9898214418809327,
          -0.9968547759519423,
          -0.9998741276738751,
          -0.998867339183008,
          -0.9938384644612541,
          -0.9848077530122081,
          -0.9718115683235417,
          -0.9549022414440739,
          -0.9341478602651068,
          -0.9096319953545182,
          -0.881453363447582,
          -0.8497254299495144,
          -0.814575952050336,
          -0.7761464642917566,
          -0.7345917086575331,
          -0.690079011482112,
          -0.6427876096865396,
          -0.5929079290546402,
          -0.5406408174555974,
          -0.48619673610046876,
          -0.4297949120891719,
          -0.37166245566032724,
          -0.31203344569848707,
          -0.25114798718107934,
          -0.18925124436040974,
          -0.12659245357374904,
          -0.06342391965656452,
          -2.4492935982947064e-16
         ]
        }
       ],
       "layout": {
        "template": {
         "data": {
          "bar": [
           {
            "error_x": {
             "color": "#2a3f5f"
            },
            "error_y": {
             "color": "#2a3f5f"
            },
            "marker": {
             "line": {
              "color": "#E5ECF6",
              "width": 0.5
             },
             "pattern": {
              "fillmode": "overlay",
              "size": 10,
              "solidity": 0.2
             }
            },
            "type": "bar"
           }
          ],
          "barpolar": [
           {
            "marker": {
             "line": {
              "color": "#E5ECF6",
              "width": 0.5
             },
             "pattern": {
              "fillmode": "overlay",
              "size": 10,
              "solidity": 0.2
             }
            },
            "type": "barpolar"
           }
          ],
          "carpet": [
           {
            "aaxis": {
             "endlinecolor": "#2a3f5f",
             "gridcolor": "white",
             "linecolor": "white",
             "minorgridcolor": "white",
             "startlinecolor": "#2a3f5f"
            },
            "baxis": {
             "endlinecolor": "#2a3f5f",
             "gridcolor": "white",
             "linecolor": "white",
             "minorgridcolor": "white",
             "startlinecolor": "#2a3f5f"
            },
            "type": "carpet"
           }
          ],
          "choropleth": [
           {
            "colorbar": {
             "outlinewidth": 0,
             "ticks": ""
            },
            "type": "choropleth"
           }
          ],
          "contour": [
           {
            "colorbar": {
             "outlinewidth": 0,
             "ticks": ""
            },
            "colorscale": [
             [
              0,
              "#0d0887"
             ],
             [
              0.1111111111111111,
              "#46039f"
             ],
             [
              0.2222222222222222,
              "#7201a8"
             ],
             [
              0.3333333333333333,
              "#9c179e"
             ],
             [
              0.4444444444444444,
              "#bd3786"
             ],
             [
              0.5555555555555556,
              "#d8576b"
             ],
             [
              0.6666666666666666,
              "#ed7953"
             ],
             [
              0.7777777777777778,
              "#fb9f3a"
             ],
             [
              0.8888888888888888,
              "#fdca26"
             ],
             [
              1,
              "#f0f921"
             ]
            ],
            "type": "contour"
           }
          ],
          "contourcarpet": [
           {
            "colorbar": {
             "outlinewidth": 0,
             "ticks": ""
            },
            "type": "contourcarpet"
           }
          ],
          "heatmap": [
           {
            "colorbar": {
             "outlinewidth": 0,
             "ticks": ""
            },
            "colorscale": [
             [
              0,
              "#0d0887"
             ],
             [
              0.1111111111111111,
              "#46039f"
             ],
             [
              0.2222222222222222,
              "#7201a8"
             ],
             [
              0.3333333333333333,
              "#9c179e"
             ],
             [
              0.4444444444444444,
              "#bd3786"
             ],
             [
              0.5555555555555556,
              "#d8576b"
             ],
             [
              0.6666666666666666,
              "#ed7953"
             ],
             [
              0.7777777777777778,
              "#fb9f3a"
             ],
             [
              0.8888888888888888,
              "#fdca26"
             ],
             [
              1,
              "#f0f921"
             ]
            ],
            "type": "heatmap"
           }
          ],
          "heatmapgl": [
           {
            "colorbar": {
             "outlinewidth": 0,
             "ticks": ""
            },
            "colorscale": [
             [
              0,
              "#0d0887"
             ],
             [
              0.1111111111111111,
              "#46039f"
             ],
             [
              0.2222222222222222,
              "#7201a8"
             ],
             [
              0.3333333333333333,
              "#9c179e"
             ],
             [
              0.4444444444444444,
              "#bd3786"
             ],
             [
              0.5555555555555556,
              "#d8576b"
             ],
             [
              0.6666666666666666,
              "#ed7953"
             ],
             [
              0.7777777777777778,
              "#fb9f3a"
             ],
             [
              0.8888888888888888,
              "#fdca26"
             ],
             [
              1,
              "#f0f921"
             ]
            ],
            "type": "heatmapgl"
           }
          ],
          "histogram": [
           {
            "marker": {
             "pattern": {
              "fillmode": "overlay",
              "size": 10,
              "solidity": 0.2
             }
            },
            "type": "histogram"
           }
          ],
          "histogram2d": [
           {
            "colorbar": {
             "outlinewidth": 0,
             "ticks": ""
            },
            "colorscale": [
             [
              0,
              "#0d0887"
             ],
             [
              0.1111111111111111,
              "#46039f"
             ],
             [
              0.2222222222222222,
              "#7201a8"
             ],
             [
              0.3333333333333333,
              "#9c179e"
             ],
             [
              0.4444444444444444,
              "#bd3786"
             ],
             [
              0.5555555555555556,
              "#d8576b"
             ],
             [
              0.6666666666666666,
              "#ed7953"
             ],
             [
              0.7777777777777778,
              "#fb9f3a"
             ],
             [
              0.8888888888888888,
              "#fdca26"
             ],
             [
              1,
              "#f0f921"
             ]
            ],
            "type": "histogram2d"
           }
          ],
          "histogram2dcontour": [
           {
            "colorbar": {
             "outlinewidth": 0,
             "ticks": ""
            },
            "colorscale": [
             [
              0,
              "#0d0887"
             ],
             [
              0.1111111111111111,
              "#46039f"
             ],
             [
              0.2222222222222222,
              "#7201a8"
             ],
             [
              0.3333333333333333,
              "#9c179e"
             ],
             [
              0.4444444444444444,
              "#bd3786"
             ],
             [
              0.5555555555555556,
              "#d8576b"
             ],
             [
              0.6666666666666666,
              "#ed7953"
             ],
             [
              0.7777777777777778,
              "#fb9f3a"
             ],
             [
              0.8888888888888888,
              "#fdca26"
             ],
             [
              1,
              "#f0f921"
             ]
            ],
            "type": "histogram2dcontour"
           }
          ],
          "mesh3d": [
           {
            "colorbar": {
             "outlinewidth": 0,
             "ticks": ""
            },
            "type": "mesh3d"
           }
          ],
          "parcoords": [
           {
            "line": {
             "colorbar": {
              "outlinewidth": 0,
              "ticks": ""
             }
            },
            "type": "parcoords"
           }
          ],
          "pie": [
           {
            "automargin": true,
            "type": "pie"
           }
          ],
          "scatter": [
           {
            "fillpattern": {
             "fillmode": "overlay",
             "size": 10,
             "solidity": 0.2
            },
            "type": "scatter"
           }
          ],
          "scatter3d": [
           {
            "line": {
             "colorbar": {
              "outlinewidth": 0,
              "ticks": ""
             }
            },
            "marker": {
             "colorbar": {
              "outlinewidth": 0,
              "ticks": ""
             }
            },
            "type": "scatter3d"
           }
          ],
          "scattercarpet": [
           {
            "marker": {
             "colorbar": {
              "outlinewidth": 0,
              "ticks": ""
             }
            },
            "type": "scattercarpet"
           }
          ],
          "scattergeo": [
           {
            "marker": {
             "colorbar": {
              "outlinewidth": 0,
              "ticks": ""
             }
            },
            "type": "scattergeo"
           }
          ],
          "scattergl": [
           {
            "marker": {
             "colorbar": {
              "outlinewidth": 0,
              "ticks": ""
             }
            },
            "type": "scattergl"
           }
          ],
          "scattermapbox": [
           {
            "marker": {
             "colorbar": {
              "outlinewidth": 0,
              "ticks": ""
             }
            },
            "type": "scattermapbox"
           }
          ],
          "scatterpolar": [
           {
            "marker": {
             "colorbar": {
              "outlinewidth": 0,
              "ticks": ""
             }
            },
            "type": "scatterpolar"
           }
          ],
          "scatterpolargl": [
           {
            "marker": {
             "colorbar": {
              "outlinewidth": 0,
              "ticks": ""
             }
            },
            "type": "scatterpolargl"
           }
          ],
          "scatterternary": [
           {
            "marker": {
             "colorbar": {
              "outlinewidth": 0,
              "ticks": ""
             }
            },
            "type": "scatterternary"
           }
          ],
          "surface": [
           {
            "colorbar": {
             "outlinewidth": 0,
             "ticks": ""
            },
            "colorscale": [
             [
              0,
              "#0d0887"
             ],
             [
              0.1111111111111111,
              "#46039f"
             ],
             [
              0.2222222222222222,
              "#7201a8"
             ],
             [
              0.3333333333333333,
              "#9c179e"
             ],
             [
              0.4444444444444444,
              "#bd3786"
             ],
             [
              0.5555555555555556,
              "#d8576b"
             ],
             [
              0.6666666666666666,
              "#ed7953"
             ],
             [
              0.7777777777777778,
              "#fb9f3a"
             ],
             [
              0.8888888888888888,
              "#fdca26"
             ],
             [
              1,
              "#f0f921"
             ]
            ],
            "type": "surface"
           }
          ],
          "table": [
           {
            "cells": {
             "fill": {
              "color": "#EBF0F8"
             },
             "line": {
              "color": "white"
             }
            },
            "header": {
             "fill": {
              "color": "#C8D4E3"
             },
             "line": {
              "color": "white"
             }
            },
            "type": "table"
           }
          ]
         },
         "layout": {
          "annotationdefaults": {
           "arrowcolor": "#2a3f5f",
           "arrowhead": 0,
           "arrowwidth": 1
          },
          "autotypenumbers": "strict",
          "coloraxis": {
           "colorbar": {
            "outlinewidth": 0,
            "ticks": ""
           }
          },
          "colorscale": {
           "diverging": [
            [
             0,
             "#8e0152"
            ],
            [
             0.1,
             "#c51b7d"
            ],
            [
             0.2,
             "#de77ae"
            ],
            [
             0.3,
             "#f1b6da"
            ],
            [
             0.4,
             "#fde0ef"
            ],
            [
             0.5,
             "#f7f7f7"
            ],
            [
             0.6,
             "#e6f5d0"
            ],
            [
             0.7,
             "#b8e186"
            ],
            [
             0.8,
             "#7fbc41"
            ],
            [
             0.9,
             "#4d9221"
            ],
            [
             1,
             "#276419"
            ]
           ],
           "sequential": [
            [
             0,
             "#0d0887"
            ],
            [
             0.1111111111111111,
             "#46039f"
            ],
            [
             0.2222222222222222,
             "#7201a8"
            ],
            [
             0.3333333333333333,
             "#9c179e"
            ],
            [
             0.4444444444444444,
             "#bd3786"
            ],
            [
             0.5555555555555556,
             "#d8576b"
            ],
            [
             0.6666666666666666,
             "#ed7953"
            ],
            [
             0.7777777777777778,
             "#fb9f3a"
            ],
            [
             0.8888888888888888,
             "#fdca26"
            ],
            [
             1,
             "#f0f921"
            ]
           ],
           "sequentialminus": [
            [
             0,
             "#0d0887"
            ],
            [
             0.1111111111111111,
             "#46039f"
            ],
            [
             0.2222222222222222,
             "#7201a8"
            ],
            [
             0.3333333333333333,
             "#9c179e"
            ],
            [
             0.4444444444444444,
             "#bd3786"
            ],
            [
             0.5555555555555556,
             "#d8576b"
            ],
            [
             0.6666666666666666,
             "#ed7953"
            ],
            [
             0.7777777777777778,
             "#fb9f3a"
            ],
            [
             0.8888888888888888,
             "#fdca26"
            ],
            [
             1,
             "#f0f921"
            ]
           ]
          },
          "colorway": [
           "#636efa",
           "#EF553B",
           "#00cc96",
           "#ab63fa",
           "#FFA15A",
           "#19d3f3",
           "#FF6692",
           "#B6E880",
           "#FF97FF",
           "#FECB52"
          ],
          "font": {
           "color": "#2a3f5f"
          },
          "geo": {
           "bgcolor": "white",
           "lakecolor": "white",
           "landcolor": "#E5ECF6",
           "showlakes": true,
           "showland": true,
           "subunitcolor": "white"
          },
          "hoverlabel": {
           "align": "left"
          },
          "hovermode": "closest",
          "mapbox": {
           "style": "light"
          },
          "paper_bgcolor": "white",
          "plot_bgcolor": "#E5ECF6",
          "polar": {
           "angularaxis": {
            "gridcolor": "white",
            "linecolor": "white",
            "ticks": ""
           },
           "bgcolor": "#E5ECF6",
           "radialaxis": {
            "gridcolor": "white",
            "linecolor": "white",
            "ticks": ""
           }
          },
          "scene": {
           "xaxis": {
            "backgroundcolor": "#E5ECF6",
            "gridcolor": "white",
            "gridwidth": 2,
            "linecolor": "white",
            "showbackground": true,
            "ticks": "",
            "zerolinecolor": "white"
           },
           "yaxis": {
            "backgroundcolor": "#E5ECF6",
            "gridcolor": "white",
            "gridwidth": 2,
            "linecolor": "white",
            "showbackground": true,
            "ticks": "",
            "zerolinecolor": "white"
           },
           "zaxis": {
            "backgroundcolor": "#E5ECF6",
            "gridcolor": "white",
            "gridwidth": 2,
            "linecolor": "white",
            "showbackground": true,
            "ticks": "",
            "zerolinecolor": "white"
           }
          },
          "shapedefaults": {
           "line": {
            "color": "#2a3f5f"
           }
          },
          "ternary": {
           "aaxis": {
            "gridcolor": "white",
            "linecolor": "white",
            "ticks": ""
           },
           "baxis": {
            "gridcolor": "white",
            "linecolor": "white",
            "ticks": ""
           },
           "bgcolor": "#E5ECF6",
           "caxis": {
            "gridcolor": "white",
            "linecolor": "white",
            "ticks": ""
           }
          },
          "title": {
           "x": 0.05
          },
          "xaxis": {
           "automargin": true,
           "gridcolor": "white",
           "linecolor": "white",
           "ticks": "",
           "title": {
            "standoff": 15
           },
           "zerolinecolor": "white",
           "zerolinewidth": 2
          },
          "yaxis": {
           "automargin": true,
           "gridcolor": "white",
           "linecolor": "white",
           "ticks": "",
           "title": {
            "standoff": 15
           },
           "zerolinecolor": "white",
           "zerolinewidth": 2
          }
         }
        },
        "xaxis": {
         "range": [
          -1.5,
          1.5
         ],
         "title": {
          "text": "Real"
         }
        },
        "yaxis": {
         "range": [
          -1.5,
          1.5
         ],
         "scaleanchor": "x",
         "scaleratio": 1,
         "title": {
          "text": "Imaginary"
         }
        }
       }
      }
     },
     "metadata": {},
     "output_type": "display_data"
    }
   ],
   "source": [
    "dmd_visualizer.plot_eigenvalues(\"plotly\")"
   ]
  },
  {
   "attachments": {},
   "cell_type": "markdown",
   "metadata": {},
   "source": [
    "Finally, let's see the quality of our approximation. We can compute the $\\mathcal{L}_2$ norm in time between approximation and original data with the `.compute_temporal_l2_norm()` method."
   ]
  },
  {
   "cell_type": "code",
   "execution_count": 27,
   "metadata": {},
   "outputs": [
    {
     "data": {
      "image/png": "[encoded data removed]",
      "text/plain": [
       "<Figure size 640x480 with 1 Axes>"
      ]
     },
     "metadata": {},
     "output_type": "display_data"
    }
   ],
   "source": [
    "dmd_visualizer.compute_temporal_l2_norm(\"seaborn\")"
   ]
  }
 ],
 "metadata": {
  "interpreter": {
   "hash": "2882c81422a800f9d7f60556fa066fc0df92ff6015fbd6757aaa84163cbdb3a5"
  },
  "kernelspec": {
   "display_name": "Python 3.11.2 ('padme')",
   "language": "python",
   "name": "python3"
  },
  "language_info": {
   "codemirror_mode": {
    "name": "ipython",
    "version": 3
   },
   "file_extension": ".py",
   "mimetype": "text/x-python",
   "name": "python",
   "nbconvert_exporter": "python",
   "pygments_lexer": "ipython3",
   "version": "3.11.2"
  },
  "orig_nbformat": 4
 },
 "nbformat": 4,
 "nbformat_minor": 2
}
